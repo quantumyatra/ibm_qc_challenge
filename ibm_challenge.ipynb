{
 "cells": [
  {
   "cell_type": "markdown",
   "metadata": {},
   "source": [
    "# IBM Quantum Challenge\n",
    "<a href='https://quantum-computing.ibm.com/challenges'>IBM challenge web-page</a>\n",
    "\n",
    "\n",
    "## Google Drive Books \n",
    "* https://drive.google.com/drive/u/0/folders/1R7Zuoc05beqbd8YXEbt4d0PP76GOXIm0\n",
    "\n",
    "## Main reference\n",
    "* Dancing with the qubit by Robert S Sutor"
   ]
  },
  {
   "cell_type": "markdown",
   "metadata": {},
   "source": [
    "# Discussion points\n",
    "\n",
    "* Page 258 from Dancing with Qubit: \n",
    "    * The ID gate is also used in circuits to indicate a place to pause or delay. This allows, for example, researchers to calculate measurements of the decoherence of a qubit. What does it mean by decoherence of a qubit.\n"
   ]
  },
  {
   "cell_type": "markdown",
   "metadata": {},
   "source": [
    "# Ex2: \n",
    "* JOBID: 5eb1f34763a98400117f0f32"
   ]
  },
  {
   "cell_type": "code",
   "execution_count": null,
   "metadata": {},
   "outputs": [],
   "source": []
  }
 ],
 "metadata": {
  "kernelspec": {
   "display_name": "Python 3",
   "language": "python",
   "name": "python3"
  },
  "language_info": {
   "codemirror_mode": {
    "name": "ipython",
    "version": 3
   },
   "file_extension": ".py",
   "mimetype": "text/x-python",
   "name": "python",
   "nbconvert_exporter": "python",
   "pygments_lexer": "ipython3",
   "version": "3.7.5"
  }
 },
 "nbformat": 4,
 "nbformat_minor": 2
}
